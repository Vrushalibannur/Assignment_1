{
  "cells": [
    {
      "cell_type": "code",
      "execution_count": null,
      "metadata": {
        "id": "nBLsxA4iwcaz"
      },
      "outputs": [],
      "source": [
        "import re\n",
        "import getpass"
      ]
    },
    {
      "cell_type": "code",
      "execution_count": null,
      "metadata": {
        "id": "CyM1QD7wsZpC"
      },
      "outputs": [],
      "source": [
        "\n",
        "\n",
        "def registration_new(email_id):                   \n",
        "  last_2char=0\n",
        "  last_3char=0  \n",
        "  if(email_id[-4] == '.'):\n",
        "    last_3char=3\n",
        "  elif(email_id[-3] == '.'):\n",
        "    last_3char=2 \n",
        "  regularex = re.compile('[@_!#$%^&*()<>?/\\|}{~:]')  \n",
        "  if((regularex.search(email_id[0])) == None):\n",
        "     #if(re.compile(r'[A-Z]') != email_id[0] ):\n",
        "        if(last_2char== 2):    \n",
        "          val_email= re.compile(r'[a-z][\\w.]+@\\w+\\.[a-z]{2}')\n",
        "          f_email1=val_email.findall(email_id)       \n",
        "        elif(last_3char== 3):       \n",
        "          val_email= re.compile(r'[a-z][\\w.]+@\\w+\\.[a-z]{3}')\n",
        "          f_email1=val_email.findall(email_id)                    \n",
        "        else:               \n",
        "          f_email1=[]\n",
        "     #else:\n",
        "      #  f_email1=[]  \n",
        "  else:  \n",
        "     f_email1=[]          \n",
        "  return f_email1\n",
        " \n",
        "\n",
        "  "
      ]
    },
    {
      "cell_type": "code",
      "execution_count": null,
      "metadata": {
        "id": "9yxg8GqE8UdS"
      },
      "outputs": [],
      "source": [
        "def validate_pass(password):\n",
        "   pass_len=len(password)  \n",
        "   reg = re.compile(\"^(?=.*[a-z])(?=.*[A-Z])(?=.*\\d)(?=.*[@$!%*#?&])[A-Za-z\\d@$!#%*?&]{5,16}$\")\n",
        "   match = re.search(reg, password)\n",
        "   if match:\n",
        "       return True\n",
        "   else:\n",
        "        return False     \n",
        "\n"
      ]
    },
    {
      "cell_type": "code",
      "execution_count": null,
      "metadata": {
        "id": "QP-buTFivtFT"
      },
      "outputs": [],
      "source": [
        "    \n",
        "def login_new(email_id_l,password_):\n",
        "  fp = open(\"login_info.txt\", \"a\")\n",
        "  fp.close() \n",
        "  fp = open(\"login_info.txt\", \"r\") #created a new file\n",
        "  l=list(fp.readlines())\n",
        "  fp.close()\n",
        "  r=1\n",
        "  for line in l:    \n",
        "    if (line.find(email_id_l) != -1 ):\n",
        "       li=list(line.split())    \n",
        "       if(li[2]== password_):\n",
        "         r=0\n",
        "         return r         \n",
        "  return r\n",
        "       "
      ]
    },
    {
      "cell_type": "code",
      "execution_count": null,
      "metadata": {
        "id": "MKoI7bdl5psi"
      },
      "outputs": [],
      "source": [
        "def rest_pass(email_id_rst,password_rst):\n",
        "  lines=[]\n",
        "  with open(\"login_info.txt\", 'r') as fp:  \n",
        "     lines = list(fp.readlines())\n",
        "     fp.close()\n",
        "\n",
        "  with open(\"login_info.txt\", 'w') as fp:\n",
        "      for line in (lines): \n",
        "          if (line.find(email_id_rst) != -1 ):\n",
        "              s=line.split()\n",
        "              name_rst=s[0]\n",
        "             \n",
        "          if (line.find(email_id_rst) == -1 ):\n",
        "              fp.write(line)\n",
        "               \n",
        "  fp.close()\n",
        "  fp = open(\"login_info.txt\", \"a\")\n",
        "  fp.writelines(\"\\n\"+name_rst +\" \"+email_id_rst+\" \"+password_rst+\" \\n\")\n",
        "  fp.close()  \n",
        "  return    \n",
        "\n"
      ]
    },
    {
      "cell_type": "code",
      "source": [
        "def check(filename):\n",
        "      with open(filename, 'r') as read_obj:\n",
        "          first_char = read_obj.read(1)\n",
        "      if not first_char:\n",
        "         ept=1\n",
        "      else:\n",
        "        ept=0   \n",
        "      return ept"
      ],
      "metadata": {
        "id": "H2OhyTZxqppb"
      },
      "execution_count": null,
      "outputs": []
    },
    {
      "cell_type": "code",
      "execution_count": null,
      "metadata": {
        "colab": {
          "base_uri": "https://localhost:8080/"
        },
        "id": "sVMeJehStQtb",
        "outputId": "4a5521c1-5669-4741-a503-a80aecee3c84"
      },
      "outputs": [
        {
          "output_type": "stream",
          "name": "stdout",
          "text": [
            "Plese select 1.Login / 2.Register / 3.Reset password :  3\n",
            "Please Enter Email Id:vb@gmail.com\n",
            "Please Enter new password:\n",
            "··········\n",
            "Reset password successfully!!!!!!!!\n"
          ]
        }
      ],
      "source": [
        "log_Reg=(input(\"Plese select 1.Login / 2.Register / 3.Reset password :  \"))\n",
        "if(\"2\" == log_Reg or \"REGISTER\" == log_Reg.upper() ):  \n",
        "   name=(input(\"Please enter user Name:\"))\n",
        "   email_id =(input(\"Please Enter Email Id:\")) \n",
        "   valid_email= registration_new(email_id)   \n",
        "   while(len(valid_email)<=0):\n",
        "     print(\"Please enter correct Email Id\")\n",
        "     email_id =(input(\"Please Enter Email Id:\")) \n",
        "     valid_email= registration_new(email_id)\n",
        "\n",
        "   if(len(valid_email)>0):  \n",
        "         \n",
        "       #password=(input(\"Please Enter password:\"))\n",
        "       print(\"\\n \\nPassword Instruction \\n1)Password length should be greater than 5 and less than 16\")\n",
        "       print(\"2) Must have minimum one special character\")\n",
        "       print(\"3)Atleast one digit\")\n",
        "       print(\"4)Atleast one one uppercase\")\n",
        "       print(\"5)Atleast one one lowercase character\\n\")\n",
        "       print(\"Please Enter password:\")\n",
        "       password=getpass.getpass()\n",
        "       correct_pass=validate_pass(password)       \n",
        "       if(correct_pass == True):\n",
        "          fp = open(\"login_info.txt\", \"a\")\n",
        "          fp.writelines(\"\\n\"+name +\" \"+email_id+\" \"+password+\" \\n\")\n",
        "          fp.close()         \n",
        "          print(\"You are successfully registered!!!!!!!!!!!!\")\n",
        "       else:\n",
        "         print(\"Please Enter correct password\") \n",
        "         password=getpass.getpass()\n",
        "         correct_pass=validate_pass(password)\n",
        "         if(correct_pass == True):\n",
        "          fp = open(\"login_info.txt\", \"a\")\n",
        "          fp.writelines(\"\\n\"+name +\" \"+email_id+\" \"+password+\" \\n\")\n",
        "          fp.close()         \n",
        "          print(\"you are successfully registered\")\n",
        "   else:\n",
        "        print(\"Please enter correct Email Id\")\n",
        "                 \n",
        "   \n",
        "\n",
        "elif(\"1\" == log_Reg or \"LOGIN\" == log_Reg.upper() ):\n",
        "     email_id_l =(input(\"Please Enter Email Id:\"))\n",
        "     password_=(input(\"Please Enter password:\")) \n",
        "     empty=check(\"login_info.txt\")\n",
        "     if(empty>0):\n",
        "       print(\"Your Login Id password is not present, please Register\")\n",
        "       name=(input(\"Please enter user Name:\"))\n",
        "       email_id =(input(\"Please Enter Email Id:\")) \n",
        "       valid_email= registration_new(email_id)   \n",
        "       while(len(valid_email)<=0):\n",
        "         print(\"Please enter correct Email Id\")\n",
        "         email_id =(input(\"Please Enter Email Id:\")) \n",
        "         valid_email= registration_new(email_id)\n",
        "\n",
        "       if(len(valid_email)>0):  \n",
        "         \n",
        "       #password=(input(\"Please Enter password:\"))\n",
        "         print(\"\\n \\nPassword Instruction \\n1)Password length should be greater than 5 and less than 16\")\n",
        "         print(\"2) Must have minimum one special character\")\n",
        "         print(\"3)Atleast one digit\")\n",
        "         print(\"4)Atleast one one uppercase\")\n",
        "         print(\"5)Atleast one one lowercase character\\n\")\n",
        "         print(\"Please Enter password:\")\n",
        "         password=getpass.getpass()\n",
        "         correct_pass=validate_pass(password)       \n",
        "         if(correct_pass == True):\n",
        "            fp = open(\"login_info.txt\", \"a\")\n",
        "            fp.writelines(\"\\n\"+name +\" \"+email_id+\" \"+password+\" \\n\")\n",
        "            fp.close()         \n",
        "            print(\"You are successfully registered!!!!!!!!!!!!\")\n",
        "     else:       \n",
        "       a=login_new(email_id_l,password_)     \n",
        "       while(a==1):\n",
        "          print(\"Your password is wrong.\")\n",
        "          password_=(input(\"Please Enter correct password:\")) \n",
        "          a=login_new(email_id_l,password_)\n",
        "     if(a == 0):\n",
        "          print(\"You are loged in!!!!!!!!!!\")     \n",
        "              \n",
        "     else:       \n",
        "       print(\"Please Register\")\n",
        "     \n",
        "elif(\"3\" == log_Reg or \"reset password\" == log_Reg.lower() ): \n",
        "   email_id_rst =(input(\"Please Enter Email Id:\"))\n",
        "   print(\"Please Enter new password:\")\n",
        "   password_rst=getpass.getpass() \n",
        "   ok=rest_pass(email_id_rst,password_rst)\n",
        "   print(\"Reset password successfully!!!!!!!!\")\n",
        "                   \n",
        "else:\n",
        "  print(\"Please Enter correct option\")   \n"
      ]
    }
  ],
  "metadata": {
    "colab": {
      "collapsed_sections": [],
      "provenance": []
    },
    "kernelspec": {
      "display_name": "Python 3",
      "name": "python3"
    },
    "language_info": {
      "name": "python"
    }
  },
  "nbformat": 4,
  "nbformat_minor": 0
}